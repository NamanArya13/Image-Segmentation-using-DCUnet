{
  "cells": [
    {
      "cell_type": "markdown",
      "metadata": {
        "id": "view-in-github",
        "colab_type": "text"
      },
      "source": [
        "<a href=\"https://colab.research.google.com/github/NamanArya13/Image-Segmentation-using-DCUnet/blob/main/sen.ipynb\" target=\"_parent\"><img src=\"https://colab.research.google.com/assets/colab-badge.svg\" alt=\"Open In Colab\"/></a>"
      ]
    },
    {
      "cell_type": "code",
      "execution_count": null,
      "metadata": {
        "colab": {
          "background_save": true
        },
        "id": "KRiIWej7IQOR"
      },
      "outputs": [],
      "source": [
        "import os\n",
        "import sys\n",
        "import random\n",
        "\n",
        "import numpy as np\n",
        "import cv2\n",
        "import matplotlib.pyplot as plt\n",
        "\n",
        "import tensorflow as tf\n",
        "from tensorflow import keras\n",
        "from keras import *\n",
        "from keras.preprocessing.image import ImageDataGenerator\t\n",
        "\n",
        "\n",
        "seed = 4446\n",
        "random.seed = seed\n",
        "np.random.seed = seed\n",
        "tf.seed = seed"
      ]
    },
    {
      "cell_type": "code",
      "execution_count": null,
      "metadata": {
        "colab": {
          "base_uri": "https://localhost:8080/"
        },
        "id": "CgZRkI43IoHc",
        "outputId": "696910b8-8e24-45dc-f38c-a7cca2a5b4eb"
      },
      "outputs": [
        {
          "name": "stdout",
          "output_type": "stream",
          "text": [
            "Drive already mounted at /content/drive; to attempt to forcibly remount, call drive.mount(\"/content/drive\", force_remount=True).\n"
          ]
        }
      ],
      "source": [
        "from google.colab import drive\n",
        "drive.mount('/content/drive')"
      ]
    },
    {
      "cell_type": "code",
      "execution_count": null,
      "metadata": {
        "id": "-T07P3SaIvZV"
      },
      "outputs": [],
      "source": [
        "def get_data(path,id_name):\n",
        "        image_size = 384\n",
        "        image_path = os.path.join(path, \"image\",id_name)\n",
        "        mask_path = os.path.join(path, \"mask\",id_name).replace(\".jpeg\",\"_mask.png\")\n",
        "        \n",
        "        \n",
        "        image = cv2.imread(image_path, 1)\n",
        "        image = cv2.resize(image, (image_size, image_size),interpolation=cv2.INTER_AREA)\n",
        "        \n",
        "        mask = np.zeros((image_size, image_size, 1))\n",
        "        \n",
        "        \n",
        "        _mask_image = cv2.imread(mask_path, -1)\n",
        "        _mask_image = cv2.resize(_mask_image, (image_size, image_size)) \n",
        "        _mask_image = np.expand_dims(_mask_image, axis=-1)\n",
        "        mask = np.maximum(mask, _mask_image)\n",
        "            \n",
        "        \n",
        "        image = image/255.0\n",
        "        mask = mask/255.0\n",
        "        \n",
        "        return image ,mask\n",
        "\n",
        "def gen_dataset(path):\n",
        "  images = next(os.walk(path+\"/image\"))[2]\n",
        "  X = []\n",
        "  y = []\n",
        "  for img in images:\n",
        "    i,m = get_data(path,img)\n",
        "    X.append(i)\n",
        "    y.append(m)\n",
        "  return np.array(X),np.array(y)"
      ]
    },
    {
      "cell_type": "code",
      "execution_count": null,
      "metadata": {
        "id": "xy24WktkI34H"
      },
      "outputs": [],
      "source": [
        "image_size = 384\n",
        "path = \"drive/MyDrive/Colab Notebooks/data_5/data/data/train\"\n",
        "train_img_path = \"drive/MyDrive/Colab Notebooks/data_5/data/data/train/image\"\n",
        "train_msk_path = \"drive/MyDrive/Colab Notebooks/data_5/data/data/train/mask\"\n",
        "epochs = 5\n",
        "batch_size = 8\n",
        "\n",
        "\n",
        "train_img = next(os.walk(train_img_path))[2]\n",
        "train_mask = next(os.walk(train_msk_path))[2]\n",
        "# train_ids\n",
        "\n",
        "val_data_size = 10\n",
        "\n",
        "valid_img = next(os.walk(\"drive/MyDrive/Colab Notebooks/data_5/data/data/val/image\"))[2]\n",
        "valid_mask = next(os.walk(\"drive/MyDrive/Colab Notebooks/data_5/data/data/val/mask\"))[2]\n",
        "# valid_img"
      ]
    },
    {
      "cell_type": "code",
      "execution_count": null,
      "metadata": {
        "id": "6f7FrQ-gI62U"
      },
      "outputs": [],
      "source": [
        "import numpy as np \n",
        "from keras.layers import Conv2D, MaxPooling2D,MaxPool2D,UpSampling2D,BatchNormalization, Dropout,Conv2DTranspose,concatenate,Lambda\n",
        "from keras.models import Sequential,Model,Input,load_model\n",
        "from tensorflow.keras.optimizers import Adam\n",
        "\n",
        "def dcunet():\n",
        "\n",
        "    kernel_size = (3,3)\n",
        "    t_kernel_size = (2,2)\n",
        "    pool = (2,2)\n",
        "    act = 'relu'\n",
        "    lastact = 'sigmoid'\n",
        "    pad = 'same'\n",
        "    init = 'he_normal'\n",
        "    learning_rate = 1e-5\n",
        "    loss_fn = 'binary_crossentropy'\n",
        "\n",
        "\n",
        "    shape = Input((384,384,3))\n",
        "\n",
        "    dc1 = Conv2D(8,kernel_size=kernel_size,activation=act,padding=pad,kernel_initializer=init)(shape)\n",
        "    dc1 = Conv2D(17,kernel_size=kernel_size,activation=act,padding=pad,kernel_initializer=init)(dc1)\n",
        "    dc1 = Conv2D(26,kernel_size=kernel_size,activation=act,padding=pad,kernel_initializer=init)(dc1)\n",
        "    rp1 = Conv2D(32,kernel_size=(3,3),activation=act,padding=pad)(dc1)\n",
        "    rp1 = Conv2D(32,kernel_size=(1,1),activation=act,padding=pad)(rp1)\n",
        "    rp1 = Conv2D(32,kernel_size=(3,3),activation=act,padding=pad)(rp1)\n",
        "    rp1 = Conv2D(32,kernel_size=(1,1),activation=act,padding=pad)(rp1)\n",
        "    rp1 = Conv2D(32,kernel_size=(3,3),activation=act,padding=pad)(rp1)\n",
        "    rp1 = Conv2D(32,kernel_size=(1,1),activation=act,padding=pad)(rp1)\n",
        "    rp1 = Conv2D(32,kernel_size=(3,3),activation=act,padding=pad)(rp1)\n",
        "    rp1 = Conv2D(32,kernel_size=(1,1),activation=act,padding=pad)(rp1)\n",
        "    pool1 = MaxPooling2D(pool)(dc1)\n",
        "    drop1 = Dropout(0.5)(pool1)\n",
        "\n",
        "\n",
        "    dc2 = Conv2D(17,kernel_size=kernel_size,activation=act,padding=pad)(drop1)\n",
        "    dc2 = Conv2D(35,kernel_size=kernel_size,activation=act,padding=pad)(dc2)\n",
        "    dc2 = Conv2D(53,kernel_size=kernel_size,activation=act,padding=pad)(dc2)\n",
        "    rp2 = Conv2D(64,kernel_size=(3,3),activation=act,padding=pad)(dc2)\n",
        "    rp2 = Conv2D(64,kernel_size=(1,1),activation=act,padding=pad)(rp2)\n",
        "    rp2 = Conv2D(64,kernel_size=(3,3),activation=act,padding=pad)(rp2)\n",
        "    rp2 = Conv2D(64,kernel_size=(1,1),activation=act,padding=pad)(rp2)\n",
        "    rp2 = Conv2D(64,kernel_size=(3,3),activation=act,padding=pad)(rp2)\n",
        "    rp2 = Conv2D(64,kernel_size=(1,1),activation=act,padding=pad)(rp2)\n",
        "    pool2 = MaxPooling2D(pool)(dc2)\n",
        "    drop2 = Dropout(0.5)(pool2)\n",
        "\n",
        "    dc3 = Conv2D(35,kernel_size=kernel_size,activation=act,padding=pad)(drop2)\n",
        "    dc3 = Conv2D(17,kernel_size=kernel_size,activation=act,padding=pad)(dc3)\n",
        "    dc3 = Conv2D(106,kernel_size=kernel_size,activation=act,padding=pad)(dc3)\n",
        "    rp3 = Conv2D(128,kernel_size=(3,3),activation=act,padding=pad)(dc3)\n",
        "    rp3 = Conv2D(128,kernel_size=(1,1),activation=act,padding=pad)(rp3)\n",
        "    rp3 = Conv2D(128,kernel_size=(3,3),activation=act,padding=pad)(rp3)\n",
        "    rp3 = Conv2D(128,kernel_size=(1,1),activation=act,padding=pad)(rp3)\n",
        "    pool3 = MaxPooling2D(pool)(dc3)\n",
        "    drop3 = Dropout(0.5)(pool3)\n",
        "\n",
        "    dc4 = Conv2D(71,kernel_size=kernel_size,activation=act,padding=pad)(drop3)\n",
        "    dc4 = Conv2D(142,kernel_size=kernel_size,activation=act,padding=pad)(dc4)\n",
        "    dc4 = Conv2D(213,kernel_size=kernel_size,activation=act,padding=pad)(dc4)\n",
        "    rp4 = Conv2D(256,kernel_size=(3,3),activation=act,padding=pad)(dc4)\n",
        "    rp4 = Conv2D(256,kernel_size=(1,1),activation=act,padding=pad)(rp4)\n",
        "    pool4 = MaxPooling2D(pool)(dc4)\n",
        "    drop4 = Dropout(0.5)(pool4)\n",
        "\n",
        "    dc5 = Conv2D(142,kernel_size=kernel_size,activation=act,padding=pad)(drop4)\n",
        "    dc5 = Conv2D(284,kernel_size=kernel_size,activation=act,padding=pad)(dc5)\n",
        "    dc5 = Conv2D(427,kernel_size=kernel_size,activation=act,padding=pad)(dc5)\n",
        "\n",
        "\n",
        "    dc6 = Conv2DTranspose(256,kernel_size=t_kernel_size,strides=(2, 2),activation=act,padding=pad)(dc5)\n",
        "    merge6= concatenate([rp4,dc6], axis = 3)\n",
        "    merge6= Dropout(0.5)(merge6)\n",
        "    dc6 = Conv2D(213,kernel_size=kernel_size,activation=act,padding=pad)(merge6)\n",
        "    dc6 = Conv2D(142,kernel_size=kernel_size,activation=act,padding=pad)(dc6)\n",
        "    dc6 = Conv2D(71,kernel_size=kernel_size,activation=act,padding=pad)(dc6)\n",
        "\n",
        "    dc7 = Conv2DTranspose(128,kernel_size=kernel_size,strides=(2, 2),activation=act,padding=pad)(dc6)\n",
        "    merge7= concatenate([rp3,dc7], axis = 3)\n",
        "    merge7= Dropout(0.5)(merge7)\n",
        "    dc7 = Conv2D(106,kernel_size=kernel_size,activation=act,padding=pad)(merge7)\n",
        "    dc7 = Conv2D(71,kernel_size=kernel_size,activation=act,padding=pad)(dc7)\n",
        "    dc7 = Conv2D(35,kernel_size=kernel_size,activation=act,padding=pad)(dc7)\n",
        "\n",
        "    dc8 = Conv2DTranspose(64,kernel_size=kernel_size,strides=(2, 2),activation=act,padding=pad)(dc7)\n",
        "    merge8= concatenate([rp2,dc8], axis = 3)\n",
        "    merge8= Dropout(0.5)(merge8)\n",
        "    dc8 = Conv2D(53,kernel_size=kernel_size,activation=act,padding=pad)(merge8)\n",
        "    dc8 = Conv2D(35,kernel_size=kernel_size,activation=act,padding=pad)(dc8)\n",
        "    dc8 = Conv2D(17,kernel_size=kernel_size,activation=act,padding=pad)(dc8)\n",
        "\n",
        "    dc9 = Conv2DTranspose(32,kernel_size=kernel_size,strides=(2, 2),activation=act,padding=pad)(dc8)\n",
        "    merge = concatenate([rp1,dc9], axis = 3)\n",
        "    merge = Dropout(0.5)(merge)\n",
        "    dc9 = Conv2D(26,kernel_size=kernel_size,activation=act,padding=pad)(merge)\n",
        "    dc9 = Conv2D(17,kernel_size=kernel_size,activation=act,padding=pad)(dc9)\n",
        "    dc9 = Conv2D(8,kernel_size=kernel_size,activation=act,padding=pad)(dc9)\n",
        "    output = Conv2D(1,kernel_size=(1,1),activation=lastact,padding=pad)(dc9)\n",
        "\n",
        "    model = Model(inputs=shape,outputs=output)\n",
        "\n",
        "    model.compile(optimizer=Adam(lr=learning_rate),loss=loss_fn,metrics=['accuracy'])\n",
        "\n",
        "    return model"
      ]
    },
    {
      "cell_type": "code",
      "execution_count": null,
      "metadata": {
        "colab": {
          "base_uri": "https://localhost:8080/"
        },
        "id": "Ua_DiQXjJAmk",
        "outputId": "e54d7782-5242-4aea-c16c-731fb8a1066b"
      },
      "outputs": [
        {
          "name": "stderr",
          "output_type": "stream",
          "text": [
            "/usr/local/lib/python3.7/dist-packages/keras/optimizer_v2/adam.py:105: UserWarning: The `lr` argument is deprecated, use `learning_rate` instead.\n",
            "  super(Adam, self).__init__(name, **kwargs)\n"
          ]
        }
      ],
      "source": [
        "model = dcunet()\n",
        "model.compile(optimizer=\"adam\", loss=\"binary_crossentropy\", metrics=[\"acc\"])"
      ]
    },
    {
      "cell_type": "code",
      "execution_count": null,
      "metadata": {
        "colab": {
          "base_uri": "https://localhost:8080/"
        },
        "id": "4D6MghQAJDeT",
        "outputId": "c29a21f9-b0a2-433f-b440-e58b8fe66e34"
      },
      "outputs": [
        {
          "name": "stdout",
          "output_type": "stream",
          "text": [
            "47\n",
            "Epoch 1/25\n",
            "6/6 [==============================] - 42s 3s/step - loss: 0.6752 - acc: 0.6323 - val_loss: 0.6444 - val_acc: 0.6163\n",
            "Epoch 2/25\n",
            "6/6 [==============================] - 4s 706ms/step - loss: 0.6385 - acc: 0.6340 - val_loss: 0.6399 - val_acc: 0.6163\n",
            "Epoch 3/25\n",
            "6/6 [==============================] - 4s 692ms/step - loss: 0.6215 - acc: 0.6344 - val_loss: 0.6325 - val_acc: 0.6163\n",
            "Epoch 4/25\n",
            "6/6 [==============================] - 4s 696ms/step - loss: 0.6146 - acc: 0.6345 - val_loss: 0.6271 - val_acc: 0.6163\n",
            "Epoch 5/25\n",
            "6/6 [==============================] - 4s 698ms/step - loss: 0.6007 - acc: 0.6346 - val_loss: 0.6156 - val_acc: 0.6163\n",
            "Epoch 6/25\n",
            "6/6 [==============================] - 4s 703ms/step - loss: 0.5842 - acc: 0.6346 - val_loss: 0.5869 - val_acc: 0.6163\n",
            "Epoch 7/25\n",
            "6/6 [==============================] - 4s 717ms/step - loss: 0.5252 - acc: 0.6395 - val_loss: 0.5388 - val_acc: 0.6703\n",
            "Epoch 8/25\n",
            "6/6 [==============================] - 4s 710ms/step - loss: 0.4949 - acc: 0.7697 - val_loss: 0.6456 - val_acc: 0.7364\n",
            "Epoch 9/25\n",
            "6/6 [==============================] - 4s 723ms/step - loss: 0.4837 - acc: 0.8095 - val_loss: 0.6965 - val_acc: 0.7181\n",
            "Epoch 10/25\n",
            "6/6 [==============================] - 4s 714ms/step - loss: 0.5290 - acc: 0.7942 - val_loss: 0.5031 - val_acc: 0.7991\n",
            "Epoch 11/25\n",
            "6/6 [==============================] - 4s 705ms/step - loss: 0.4870 - acc: 0.7913 - val_loss: 0.4966 - val_acc: 0.8001\n",
            "Epoch 12/25\n",
            "6/6 [==============================] - 4s 700ms/step - loss: 0.4788 - acc: 0.8100 - val_loss: 0.5277 - val_acc: 0.7391\n",
            "Epoch 13/25\n",
            "6/6 [==============================] - 4s 696ms/step - loss: 0.4851 - acc: 0.7800 - val_loss: 0.5081 - val_acc: 0.8012\n",
            "Epoch 14/25\n",
            "6/6 [==============================] - 4s 693ms/step - loss: 0.4710 - acc: 0.8054 - val_loss: 0.5343 - val_acc: 0.7623\n",
            "Epoch 15/25\n",
            "6/6 [==============================] - 4s 692ms/step - loss: 0.4765 - acc: 0.8107 - val_loss: 0.4907 - val_acc: 0.7998\n",
            "Epoch 16/25\n",
            "6/6 [==============================] - 4s 690ms/step - loss: 0.4584 - acc: 0.8104 - val_loss: 0.4767 - val_acc: 0.8037\n",
            "Epoch 17/25\n",
            "6/6 [==============================] - 4s 689ms/step - loss: 0.4449 - acc: 0.8104 - val_loss: 0.4828 - val_acc: 0.7910\n",
            "Epoch 18/25\n",
            "6/6 [==============================] - 4s 688ms/step - loss: 0.4134 - acc: 0.8148 - val_loss: 0.4812 - val_acc: 0.7889\n",
            "Epoch 19/25\n",
            "6/6 [==============================] - 4s 688ms/step - loss: 0.4028 - acc: 0.8188 - val_loss: 0.4293 - val_acc: 0.8118\n",
            "Epoch 20/25\n",
            "6/6 [==============================] - 4s 703ms/step - loss: 0.3918 - acc: 0.8233 - val_loss: 0.4556 - val_acc: 0.7998\n",
            "Epoch 21/25\n",
            "6/6 [==============================] - 4s 689ms/step - loss: 0.4012 - acc: 0.8206 - val_loss: 0.4294 - val_acc: 0.8105\n",
            "Epoch 22/25\n",
            "6/6 [==============================] - 4s 689ms/step - loss: 0.3959 - acc: 0.8244 - val_loss: 0.4344 - val_acc: 0.8116\n",
            "Epoch 23/25\n",
            "6/6 [==============================] - 4s 689ms/step - loss: 0.3982 - acc: 0.8236 - val_loss: 0.4102 - val_acc: 0.8221\n",
            "Epoch 24/25\n",
            "6/6 [==============================] - 4s 694ms/step - loss: 0.4015 - acc: 0.8213 - val_loss: 0.4170 - val_acc: 0.8202\n",
            "Epoch 25/25\n",
            "6/6 [==============================] - 4s 691ms/step - loss: 0.3976 - acc: 0.8251 - val_loss: 0.4829 - val_acc: 0.7850\n"
          ]
        }
      ],
      "source": [
        "x_train,y_train = gen_dataset(\"drive/MyDrive/Colab Notebooks/data_5/data/data/train\")\n",
        "x_val,y_val = gen_dataset(\"drive/MyDrive/Colab Notebooks/data_5/data/data/val\")\n",
        "print(len(x_train))\n",
        "\n",
        "\n",
        "\n",
        "history = model.fit(x_train,y_train, validation_data=(x_val,y_val),batch_size=8, epochs=25)"
      ]
    },
    {
      "cell_type": "code",
      "execution_count": null,
      "metadata": {
        "colab": {
          "base_uri": "https://localhost:8080/",
          "height": 295
        },
        "id": "SGz6seBc6SFy",
        "outputId": "2e7e81cf-28a2-4279-cc0b-df22eb664f51"
      },
      "outputs": [
        {
          "data": {
            "image/png": "[encoded data removed]",
            "text/plain": [
              "<Figure size 432x288 with 1 Axes>"
            ]
          },
          "metadata": {},
          "output_type": "display_data"
        }
      ],
      "source": [
        "loss = history.history['loss']\n",
        "val_loss = history.history['val_loss']\n",
        "epochs = range(1, len(loss) + 1)\n",
        "plt.plot(epochs, loss, 'y', label='Training loss')\n",
        "plt.plot(epochs, val_loss, 'r', label='Validation loss')\n",
        "plt.title('Training and validation loss')\n",
        "plt.xlabel('Epochs')\n",
        "plt.ylabel('Loss')\n",
        "plt.legend()\n",
        "plt.show()"
      ]
    },
    {
      "cell_type": "code",
      "execution_count": null,
      "metadata": {
        "id": "sS1tNWGHJGBP"
      },
      "outputs": [],
      "source": [
        "dice=0\n",
        "def get_test_data(path,name):\n",
        "  # print(path)\n",
        "  image = cv2.imread(path+\"image/\"+name, 1)\n",
        "  image = cv2.resize(image, (384, 384),interpolation=cv2.INTER_AREA)\n",
        "  image = image/255.0\n",
        "  # image = np.asarray(image)\n",
        "  # \n",
        "  mask = np.zeros((384, 384, 1))\n",
        "\n",
        "  _mask_image = cv2.imread(path+\"mask/\"+name.replace(\".jpeg\",\"_mask.png\"), -1)\n",
        "  \n",
        "  _mask_image = cv2.resize(_mask_image, (384, 384)) \n",
        "  _mask_image = np.expand_dims(_mask_image, axis=-1)\n",
        "  mask = np.maximum(mask, _mask_image)\n",
        "  mask=mask/255.0\n",
        "  return image,mask"
      ]
    },
    {
      "cell_type": "code",
      "execution_count": null,
      "metadata": {
        "colab": {
          "base_uri": "https://localhost:8080/",
          "height": 269
        },
        "id": "68-lsBDUJ-MN",
        "outputId": "31c3311d-076e-4757-e085-dd17453f3e5a"
      },
      "outputs": [
        {
          "data": {
            "image/png": "[encoded data removed]",
            "text/plain": [
              "<Figure size 432x288 with 1 Axes>"
            ]
          },
          "metadata": {},
          "output_type": "display_data"
        }
      ],
      "source": [
        "dice=0\n",
        "from PIL import Image\n",
        "c=12\n",
        "pixel_acc=0\n",
        "for img in train_img:\n",
        "  image,mask = get_test_data(\"drive/MyDrive/Colab Notebooks/data_5/data/data/train/\",img)\n",
        "  result = model.predict(np.array([image]))\n",
        "  result = result > 0.33\n",
        "  pixel_acc += (result==mask).sum()\n",
        "  pixel_acc/=(384*384)\n",
        "\n",
        "  dice += (2 *(result*mask).sum())/((result+mask).sum() + 1e-8)\n",
        "  #if not c:\n",
        "  plt.imshow(np.reshape(result[0]*255, (384, 384)), cmap=\"gray\")\n",
        "  c+=1"
      ]
    },
    {
      "cell_type": "code",
      "execution_count": null,
      "metadata": {
        "colab": {
          "base_uri": "https://localhost:8080/"
        },
        "id": "TiEvI75mKBD6",
        "outputId": "36912871-e7b7-4eee-edd3-c1cba8bdf0a8"
      },
      "outputs": [
        {
          "name": "stdout",
          "output_type": "stream",
          "text": [
            "DICE SCORE: 0.7384215046973249\n"
          ]
        }
      ],
      "source": [
        "print(f\"DICE SCORE: {dice/len(train_img)}\")"
      ]
    },
    {
      "cell_type": "code",
      "execution_count": null,
      "metadata": {
        "colab": {
          "base_uri": "https://localhost:8080/"
        },
        "id": "dpsBrQsZKUsS",
        "outputId": "f18ff400-dd1d-4d78-a822-2f72aadb5269"
      },
      "outputs": [
        {
          "name": "stdout",
          "output_type": "stream",
          "text": [
            "PIXEL ERROR: 0.014478883065768104\n"
          ]
        }
      ],
      "source": [
        "print(f\"PIXEL ERROR: {pixel_acc/c}\")"
      ]
    },
    {
      "cell_type": "code",
      "execution_count": null,
      "metadata": {
        "id": "MSxBGK7ZKWkf"
      },
      "outputs": [],
      "source": []
    }
  ],
  "metadata": {
    "accelerator": "GPU",
    "colab": {
      "collapsed_sections": [],
      "provenance": [],
      "include_colab_link": true
    },
    "gpuClass": "standard",
    "kernelspec": {
      "display_name": "Python 3",
      "name": "python3"
    },
    "language_info": {
      "name": "python"
    }
  },
  "nbformat": 4,
  "nbformat_minor": 0
}