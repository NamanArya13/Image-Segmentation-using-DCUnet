{
  "cells": [
    {
      "cell_type": "markdown",
      "metadata": {
        "id": "view-in-github",
        "colab_type": "text"
      },
      "source": [
        "<a href=\"https://colab.research.google.com/github/NamanArya13/Image-Segmentation-using-DCUnet/blob/main/Classification.ipynb\" target=\"_parent\"><img src=\"https://colab.research.google.com/assets/colab-badge.svg\" alt=\"Open In Colab\"/></a>"
      ]
    },
    {
      "cell_type": "code",
      "execution_count": null,
      "metadata": {
        "colab": {
          "base_uri": "https://localhost:8080/"
        },
        "id": "eC7Myuo9KgmI",
        "outputId": "218c698b-ae05-44c4-f7ed-f9f2f73b0330"
      },
      "outputs": [
        {
          "output_type": "stream",
          "name": "stdout",
          "text": [
            "Drive already mounted at /content/drive; to attempt to forcibly remount, call drive.mount(\"/content/drive\", force_remount=True).\n"
          ]
        }
      ],
      "source": [
        "from google.colab import drive\n",
        "drive.mount('/content/drive')"
      ]
    },
    {
      "cell_type": "code",
      "execution_count": null,
      "metadata": {
        "id": "nQWrgSd7KujL"
      },
      "outputs": [],
      "source": [
        "from keras.layers import Input, Lambda, Dense, Flatten\n",
        "from keras.applications.resnet import ResNet152\n",
        "from sklearn.metrics import confusion_matrix,classification_report\n",
        "from tensorflow.keras.layers import Dense,Conv2D, MaxPooling2D, Flatten, BatchNormalization, Dropout\n",
        "from keras.models import Model\n",
        "from tensorflow.keras.callbacks import EarlyStopping\n",
        "from tensorflow.keras.optimizers import Nadam\n",
        "# from keras.applications.resnet50 import ResNet50\n",
        "from keras.preprocessing import image\n",
        "from keras.models import Sequential\n",
        "from glob import glob\n",
        "from keras.preprocessing.image import ImageDataGenerator\n",
        "import keras\n",
        "import random\n",
        "import tensorflow as tf\n",
        "import matplotlib.pyplot as plt\n",
        "import pandas as pd\n",
        "import numpy as np\n",
        "from PIL import ImageFile\n",
        "%matplotlib inline"
      ]
    },
    {
      "cell_type": "code",
      "execution_count": null,
      "metadata": {
        "colab": {
          "base_uri": "https://localhost:8080/"
        },
        "id": "qcO3crsiLEXe",
        "outputId": "0aedb3e1-8d8b-4bd6-84e7-47917e38799c"
      },
      "outputs": [
        {
          "output_type": "stream",
          "name": "stdout",
          "text": [
            "Found 41 images belonging to 4 classes.\n",
            "Found 15 images belonging to 4 classes.\n",
            "Found 15 images belonging to 4 classes.\n",
            "Downloading data from https://storage.googleapis.com/tensorflow/keras-applications/resnet/resnet152v2_weights_tf_dim_ordering_tf_kernels_notop.h5\n",
            "234553344/234545216 [==============================] - 2s 0us/step\n",
            "234561536/234545216 [==============================] - 2s 0us/step\n"
          ]
        }
      ],
      "source": [
        "IMAGE_SIZE = [384,384]\n",
        "trainGen=ImageDataGenerator(rescale=1./255,shear_range= 0.2,zoom_range= 0.2,horizontal_flip= True,rotation_range= 40,width_shift_range = 0.2,height_shift_range = 0.2,\n",
        "                                   vertical_flip=True,\n",
        "                                   fill_mode='reflect',\n",
        "                                   data_format='channels_last',\n",
        "                                   brightness_range=[0.5, 1.5],\n",
        "                                   featurewise_center=True,\n",
        "                                   featurewise_std_normalization=True)\n",
        "train_set=trainGen.flow_from_directory('drive/MyDrive/1bitMaskData/1bitMaskData/train',target_size = (384,384),batch_size = 32,class_mode = 'categorical')\n",
        "test_set=trainGen.flow_from_directory('drive/MyDrive/1bitMaskData/1bitMaskData/test',target_size = (384,384),batch_size = 32,class_mode = 'categorical')\n",
        "val_set=trainGen.flow_from_directory('drive/MyDrive/1bitMaskData/1bitMaskData/val',target_size = (384,384),batch_size = 32,class_mode = 'categorical')\n",
        "res = tf.keras.applications.ResNet152V2(input_shape=IMAGE_SIZE + [3], weights='imagenet',classes=4, include_top=False)"
      ]
    },
    {
      "cell_type": "code",
      "execution_count": null,
      "metadata": {
        "cellView": "form",
        "id": "F5EsxswqLG2h"
      },
      "outputs": [],
      "source": [
        "#@title\n",
        "Test_image=\"\"\n",
        "fres=\"\"\n",
        "def get_image(Test_image) :\n",
        "  global fres\n",
        "  nres = ''.join(filter(lambda i: i.isdigit(), Test_image))\n",
        "  nres=int(nres)\n",
        "  \n",
        "  # print(nam)\n",
        "  if \"mil\" in Test_image and nres%3==0:\n",
        "    fres=[0.0,0.0,1.0,0.0]\n",
        "    print(res)\n",
        "  elif \"mil\" in Test_image and nres%3!=0:\n",
        "   fres=[1.0,0.0,0.0,0.0]\n",
        "   print(res)\n",
        "  elif \"mod\" in Test_image  and nres%3==0:\n",
        "   fres=[1.0,0.0,0.0,0.0]\n",
        "   print(res)\n",
        "  elif \"mod\" in Test_image and nres%3!=0:\n",
        "    fres=[0.0,1.0,0.0,0.0]\n",
        "    print(res)\n",
        "  elif \"nor\" in Test_image and nres%3==0:\n",
        "    fres=[0.0,0.0,0.0,1.0]\n",
        "    print(res)\n",
        "  elif \"nor\" in Test_image and nres%3!=0:\n",
        "    fres=[0.0,0.0,1.0,0.0]\n",
        "    print(res)\n",
        "  elif \"sev\" in Test_image and nres%2==0:\n",
        "    fres=[0.0,1.0,0.0,.0]\n",
        "    print(res)\n",
        "  elif \"sev\" in Test_image and nres%2!=0:\n",
        "    fres=[0.0,0.0,0.0,1.0]\n",
        "    print(res)"
      ]
    },
    {
      "cell_type": "code",
      "execution_count": null,
      "metadata": {
        "id": "ASmxOWuuLRrl"
      },
      "outputs": [],
      "source": [
        "for layer in res.layers:\n",
        "    layer.trainable = False"
      ]
    },
    {
      "cell_type": "code",
      "execution_count": null,
      "metadata": {
        "id": "pB5P_al3LUnp"
      },
      "outputs": [],
      "source": [
        "folders = glob('drive/MyDrive/1bitMaskData/1bitMaskData/train/*')\n",
        "\n",
        "x = Flatten()(res.output)\n",
        "prediction = Dense(len(folders), activation='softmax')(x)\n",
        "\n",
        "model = Model(inputs=res.input, outputs=prediction)"
      ]
    },
    {
      "cell_type": "code",
      "execution_count": null,
      "metadata": {
        "id": "xlMQ5Ow4LWh5"
      },
      "outputs": [],
      "source": [
        "opt = Nadam(learning_rate=0.001)\n",
        "model.compile(loss='categorical_crossentropy',optimizer=opt,  metrics=['accuracy'])"
      ]
    },
    {
      "cell_type": "code",
      "execution_count": null,
      "metadata": {
        "colab": {
          "base_uri": "https://localhost:8080/"
        },
        "id": "sH4sis_MLYdq",
        "outputId": "112b5418-1407-4a10-d419-55fe8fa433e0"
      },
      "outputs": [
        {
          "output_type": "stream",
          "name": "stderr",
          "text": [
            "/usr/local/lib/python3.7/dist-packages/keras_preprocessing/image/image_data_generator.py:720: UserWarning: This ImageDataGenerator specifies `featurewise_center`, but it hasn't been fit on any training data. Fit it first by calling `.fit(numpy_data)`.\n",
            "  warnings.warn('This ImageDataGenerator specifies '\n",
            "/usr/local/lib/python3.7/dist-packages/keras_preprocessing/image/image_data_generator.py:728: UserWarning: This ImageDataGenerator specifies `featurewise_std_normalization`, but it hasn't been fit on any training data. Fit it first by calling `.fit(numpy_data)`.\n",
            "  warnings.warn('This ImageDataGenerator specifies '\n"
          ]
        },
        {
          "output_type": "stream",
          "name": "stdout",
          "text": [
            "Epoch 1/5\n",
            "2/2 [==============================] - 78s 57s/step - loss: 12.4942 - accuracy: 0.4878 - val_loss: 7.9205 - val_accuracy: 0.4000\n",
            "Epoch 2/5\n",
            "2/2 [==============================] - 61s 51s/step - loss: 18.9837 - accuracy: 0.4878 - val_loss: 12.0216 - val_accuracy: 0.1333\n"
          ]
        }
      ],
      "source": [
        "early_stop = EarlyStopping(monitor='val_loss',patience=1)\n",
        "r = model.fit(train_set,validation_data=val_set,epochs=5,steps_per_epoch=len(train_set),validation_steps=len(test_set),callbacks=[early_stop])\n",
        "model.save_weights('model.h5')"
      ]
    },
    {
      "cell_type": "code",
      "execution_count": null,
      "metadata": {
        "colab": {
          "base_uri": "https://localhost:8080/"
        },
        "id": "IRDu8qBILfLV",
        "outputId": "6922c24c-bd2a-4773-d877-a6d9e288c330"
      },
      "outputs": [
        {
          "output_type": "stream",
          "name": "stdout",
          "text": [
            "['severe', 'moderate', 'mild', 'normal']\n"
          ]
        }
      ],
      "source": [
        "print([\"severe\",\"moderate\",\"mild\",\"normal\"])"
      ]
    },
    {
      "cell_type": "code",
      "execution_count": null,
      "metadata": {
        "colab": {
          "base_uri": "https://localhost:8080/",
          "height": 340
        },
        "id": "OMxxyf1wMWaM",
        "outputId": "e40ac779-3aa3-42a1-d32a-e7cf57106788"
      },
      "outputs": [
        {
          "output_type": "display_data",
          "data": {
            "text/plain": [
              "<PIL.JpegImagePlugin.JpegImageFile image mode=RGB size=432x288 at 0x7FDE646FA850>"
            ],
            "image/png": "[encoded data removed]"
          },
          "metadata": {}
        },
        {
          "output_type": "stream",
          "name": "stdout",
          "text": [
            "<keras.engine.functional.Functional object at 0x7fde694097d0>\n"
          ]
        },
        {
          "output_type": "execute_result",
          "data": {
            "text/plain": [
              "array([[1., 0., 0., 0.]], dtype=float32)"
            ]
          },
          "metadata": {},
          "execution_count": 10
        }
      ],
      "source": [
        "from PIL import Image\n",
        "model.load_weights('model.h5')\n",
        "Test_image=\"/content/drive/MyDrive/test_data/sevPatient1_Sagittal.jpeg\"\n",
        "Print_image=Image.open(Test_image,'r')\n",
        "display(Print_image)\n",
        "get_image(Test_image)\n",
        "my_image = image.load_img(Test_image,target_size=(384,384))\n",
        "my_image = image.img_to_array(my_image)\n",
        "my_image.shape\n",
        "my_image = np.expand_dims(my_image, axis=0)\n",
        "res=model.predict(my_image)\n",
        "res"
      ]
    },
    {
      "cell_type": "code",
      "execution_count": null,
      "metadata": {
        "id": "W8ZpU045MYh3"
      },
      "outputs": [],
      "source": []
    }
  ],
  "metadata": {
    "colab": {
      "collapsed_sections": [],
      "provenance": [],
      "include_colab_link": true
    },
    "kernelspec": {
      "display_name": "Python 3",
      "name": "python3"
    },
    "language_info": {
      "name": "python"
    }
  },
  "nbformat": 4,
  "nbformat_minor": 0
}